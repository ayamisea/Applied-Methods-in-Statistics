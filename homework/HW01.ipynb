{
 "cells": [
  {
   "cell_type": "markdown",
   "metadata": {},
   "source": [
    "# Homework 01"
   ]
  },
  {
   "cell_type": "code",
   "execution_count": 3,
   "metadata": {},
   "outputs": [],
   "source": [
    "import numpy as np\n",
    "from matplotlib import pyplot as plt\n",
    "from sklearn import linear_model\n",
    "import pandas as pd\n",
    "import scipy.stats as stats"
   ]
  },
  {
   "cell_type": "markdown",
   "metadata": {},
   "source": [
    "### 第一題"
   ]
  },
  {
   "cell_type": "code",
   "execution_count": 95,
   "metadata": {},
   "outputs": [],
   "source": [
    "# Load data\n",
    "percent_returning=np.array([[74],[66],[81],[52],[73],[62],[52],[45],[62],[46],[60],[46],[38]])\n",
    "new_adults=np.array([[5],[6],[8],[11],[12],[15],[16],[17],[18],[18],[19],[20],[20]])\n",
    "\n",
    "# Fit line (Least Squared method)\n",
    "model_bird = linear_model.LinearRegression(fit_intercept=True)\n",
    "model_bird.fit(percent_returning,new_adults)\n",
    "b=model_bird.coef_\n",
    "a=model_bird.intercept_\n",
    "\n",
    "# Calculate mean,covariance,and variance\n",
    "x_mean=np.mean(percent_returning)\n",
    "y_mean=np.mean(new_adults)\n",
    "n=13\n",
    "total=0\n",
    "x_sq=0\n",
    "y_sq=0\n",
    "for i in range(0,n):\n",
    "    t1=percent_returning[i]-x_mean\n",
    "    t2=new_adults[i]-y_mean\n",
    "    total=total+t1*t2\n",
    "    x_sq=x_sq+t1*t1\n",
    "    y_sq=y_sq+t2*t2\n",
    "cov_xy=total/n\n",
    "var_x=x_sq/n\n",
    "var_y=y_sq/n\n",
    "\n",
    "#calculate TSS、SSE\n",
    "TSS=y_sq\n",
    "SSE=0\n",
    "for i in range(0,n):\n",
    "    SSE=SSE+(new_adults[i]-a-b*percent_returning[i])**2\n",
    "MSE=SSE/(n-2)\n"
   ]
  },
  {
   "cell_type": "markdown",
   "metadata": {},
   "source": [
    "a. Describe the pattern of the data"
   ]
  },
  {
   "cell_type": "code",
   "execution_count": 96,
   "metadata": {
    "scrolled": false
   },
   "outputs": [
    {
     "data": {
      "text/plain": [
       "Text(0, 0.5, 'number of new adults')"
      ]
     },
     "execution_count": 96,
     "metadata": {},
     "output_type": "execute_result"
    },
    {
     "data": {
      "image/png": "[encoded data removed]",
      "text/plain": [
       "<Figure size 432x288 with 1 Axes>"
      ]
     },
     "metadata": {
      "needs_background": "light"
     },
     "output_type": "display_data"
    }
   ],
   "source": [
    "plt.scatter(percent_returning,new_adults)\n",
    "plt.xlabel('percent of adults returning')\n",
    "plt.ylabel('number of new adults')"
   ]
  },
  {
   "cell_type": "markdown",
   "metadata": {},
   "source": [
    "b. Any possible outliers? <br>\n",
    "- Studentized residuals<br>\n",
    "https://newonlinecourses.science.psu.edu/stat501/node/339/ <br>\n",
    "$r_{i}=\\frac{e_{i}}{s(e_{i})}=\\frac{e_{i}}{\\sqrt{MSE(1-h_{ii})}}$ <br>\n",
    "An observation with an internally studentized residual that is larger than 3 (in absolute value) is generally deemed an outlier."
   ]
  },
  {
   "cell_type": "code",
   "execution_count": 130,
   "metadata": {
    "scrolled": true
   },
   "outputs": [
    {
     "name": "stdout",
     "output_type": "stream",
     "text": [
      "pc_re new_ad   stud_res             res                  hii\n",
      "[74]   [5]    -1.3517945169970782   [[-4.43656125]]    0.19892067325835905\n",
      "[66]   [6]    -1.6932018747346413   [[-5.86874481]]    0.10653634236546153\n",
      "[81]   [8]    0.23063819819830747   [[0.69159937]]    0.331270284549777\n",
      "[52]   [11]    -1.469974792647896   [[-5.12506604]]    0.09596950713261365\n",
      "[73]   [12]    0.6820821039446255   [[2.2594158]]    0.1839384104460714\n",
      "[62]   [15]    0.5456758392091983   [[1.91516341]]    0.08389312400935911\n",
      "[52]   [16]    -0.03587152412915061   [[-0.12506604]]    0.09596950713261365\n",
      "[45]   [17]    -0.373523736374447   [[-1.25322666]]    0.16280473998037567\n",
      "[62]   [18]    1.4004475575448183   [[4.91516341]]    0.08389312400935911\n",
      "[46]   [18]    0.015028114570857135   [[0.05079629]]    0.15031323118725937\n",
      "[60]   [19]    1.5076595256446628   [[5.30711752]]    0.0784587516038945\n",
      "[46]   [20]    0.6067294219981719   [[2.05079629]]    0.15031323118725937\n",
      "[38]   [20]    -0.1223813066545974   [[-0.38138727]]    0.27771907313759514\n"
     ]
    }
   ],
   "source": [
    "arr = np.empty((0,2))\n",
    "for i in range(0,n):\n",
    "    temp=percent_returning[i][0]\n",
    "    arr = np.append(arr, np.array([[1,temp]]), axis=0)\n",
    "tmp=np.dot(arr.transpose(),arr)\n",
    "tmp=np.linalg.inv(tmp)\n",
    "hat_m=np.dot(np.dot(arr,tmp),arr.transpose())\n",
    "stud_res=np.empty((0,1))\n",
    "print('pc_re','new_ad','  stud_res','            res','                 hii')\n",
    "for i in range(0,n):\n",
    "    predict=a+b*percent_returning[i]\n",
    "    res = new_adults[i]-predict\n",
    "    stud_res= np.append(stud_res,(res)/((MSE*(1-hat_m[i][i]))**0.5))\n",
    "    print(percent_returning[i],' ',new_adults[i],'  ',stud_res[i],' ',res,'  ',hat_m[i][i])\n",
    "    "
   ]
  },
  {
   "cell_type": "code",
   "execution_count": 134,
   "metadata": {
    "scrolled": true
   },
   "outputs": [
    {
     "data": {
      "text/plain": [
       "<function matplotlib.pyplot.show(*args, **kw)>"
      ]
     },
     "execution_count": 134,
     "metadata": {},
     "output_type": "execute_result"
    },
    {
     "data": {
      "image/png": "[encoded data removed]",
      "text/plain": [
       "<Figure size 432x288 with 1 Axes>"
      ]
     },
     "metadata": {
      "needs_background": "light"
     },
     "output_type": "display_data"
    }
   ],
   "source": [
    "plt.scatter(percent_returning,new_adults,color='blue',marker='o')\n",
    "x = percent_returning\n",
    "plt.plot(x,model_bird.predict(x),color='red')\n",
    "plt.plot(x, model_bird.predict(x) + 2*(MSE**0.5), linestyle='dashed',color='green')\n",
    "plt.plot(x, model_bird.predict(x) - 2*(MSE**0.5), linestyle='dashed',color='green')\n",
    "plt.xlabel('percent of adults returning')\n",
    "plt.ylabel('number of new adults')\n",
    "plt.show"
   ]
  },
  {
   "cell_type": "markdown",
   "metadata": {},
   "source": [
    "c. Pearson’s correlation"
   ]
  },
  {
   "cell_type": "code",
   "execution_count": 135,
   "metadata": {},
   "outputs": [
    {
     "name": "stdout",
     "output_type": "stream",
     "text": [
      "[-47.66863905] [156.79289941] [25.86982249]\n",
      "[-0.7484673] (array([-0.7484673]), array([0.00324806]))\n"
     ]
    }
   ],
   "source": [
    "print(cov_xy,var_x,var_y)\n",
    "temp = (var_x*var_y)**0.5\n",
    "p=cov_xy/temp\n",
    "pearson=stats.pearsonr(percent_returning, new_adults) \n",
    "#return：(Pearson’s correlation coefficient,2-tailed p-value)\n",
    "print(p,pearson)"
   ]
  },
  {
   "cell_type": "markdown",
   "metadata": {},
   "source": [
    "d.Fit a least-squares line"
   ]
  },
  {
   "cell_type": "code",
   "execution_count": 137,
   "metadata": {
    "scrolled": true
   },
   "outputs": [
    {
     "name": "stdout",
     "output_type": "stream",
     "text": [
      "y=a+bX\n",
      "b係數： [[-0.30402295]] [-0.30402295]\n",
      "a截距： [31.93425919] [31.93425919]\n"
     ]
    }
   ],
   "source": [
    "print(\"y=a+bX\")\n",
    "b=p*(var_y**0.5)/(var_x**0.5)\n",
    "a=y_mean-b*x_mean\n",
    "print(\"b係數：\",model_bird.coef_,b)  #係數 b\n",
    "print(\"a截距：\",model_bird.intercept_,a)  #截距 a\n"
   ]
  },
  {
   "cell_type": "code",
   "execution_count": 138,
   "metadata": {},
   "outputs": [
    {
     "data": {
      "text/plain": [
       "<function matplotlib.pyplot.show(*args, **kw)>"
      ]
     },
     "execution_count": 138,
     "metadata": {},
     "output_type": "execute_result"
    },
    {
     "data": {
      "image/png": "[encoded data removed]",
      "text/plain": [
       "<Figure size 432x288 with 1 Axes>"
      ]
     },
     "metadata": {
      "needs_background": "light"
     },
     "output_type": "display_data"
    }
   ],
   "source": [
    "plt.scatter(percent_returning,new_adults,color='blue',marker='o')\n",
    "plt.plot(percent_returning,model_bird.predict(percent_returning),color='red')\n",
    "plt.xlabel('percent of adults returning')\n",
    "plt.ylabel('number of new adults')\n",
    "plt.show"
   ]
  },
  {
   "cell_type": "markdown",
   "metadata": {},
   "source": [
    "e. Compute the measure of $R^2$"
   ]
  },
  {
   "cell_type": "code",
   "execution_count": 139,
   "metadata": {},
   "outputs": [
    {
     "name": "stdout",
     "output_type": "stream",
     "text": [
      "[336.30769231] [[147.90701185]] [[0.5602033]]\n",
      "R平方： 0.5602033041973098\n"
     ]
    }
   ],
   "source": [
    "r_squared = model_bird.score(percent_returning,new_adults)\n",
    "r_sq=1-SSE/TSS\n",
    "print(TSS,SSE,r_sq)\n",
    "print(\"R平方：\",r_squared)"
   ]
  },
  {
   "cell_type": "markdown",
   "metadata": {},
   "source": [
    "### 第二題"
   ]
  },
  {
   "cell_type": "code",
   "execution_count": 142,
   "metadata": {},
   "outputs": [],
   "source": [
    "# Load data\n",
    "soda=np.array([[35.1],[35.7],[46.2],[47.4],[47.9],[49.7],[49.3]])\n",
    "milk=np.array([[27.6],[26.7],[25.7],[23.9],[23.0],[22.9],[23.3]])\n",
    "# Fit line (Least Squared method)\n",
    "model_drink = linear_model.LinearRegression(fit_intercept=True)\n",
    "model_drink.fit(soda,milk)\n",
    "b=model_drink.coef_\n",
    "a=model_drink.intercept_\n",
    "\n",
    "# Calculate mean,covariance,and variance\n",
    "x_mean=np.mean(soda)\n",
    "y_mean=np.mean(milk)\n",
    "n=7\n",
    "cov_xy=0\n",
    "x_var=0\n",
    "y_var=0\n",
    "for i in range(0,n):\n",
    "    cov_xy=cov_xy+(soda[i]-x_mean)*(milk[i]-y_mean)\n",
    "    x_var=x_var+(soda[i]-x_mean)**2\n",
    "    y_var=y_var+(milk[i]-y_mean)**2\n",
    "cov_xy=cov_xy/n\n",
    "x_var=x_var/n\n",
    "y_var=y_var/n\n",
    "\n",
    "#calculate SSE、MSE\n",
    "SSE=0\n",
    "for i in range(0,n):\n",
    "    SSE=SSE+(milk[i]-a-b*soda[i])**2\n",
    "MSE=SSE/(n-2)\n"
   ]
  },
  {
   "cell_type": "markdown",
   "metadata": {},
   "source": [
    "a. Describe the pattern of the data"
   ]
  },
  {
   "cell_type": "code",
   "execution_count": 143,
   "metadata": {},
   "outputs": [
    {
     "data": {
      "text/plain": [
       "Text(0, 0.5, 'Milk')"
      ]
     },
     "execution_count": 143,
     "metadata": {},
     "output_type": "execute_result"
    },
    {
     "data": {
      "image/png": "[encoded data removed]",
      "text/plain": [
       "<Figure size 432x288 with 1 Axes>"
      ]
     },
     "metadata": {
      "needs_background": "light"
     },
     "output_type": "display_data"
    }
   ],
   "source": [
    "plt.scatter(soda,milk)\n",
    "plt.xlabel('Soda')\n",
    "plt.ylabel('Milk')"
   ]
  },
  {
   "cell_type": "markdown",
   "metadata": {},
   "source": [
    "b. Any possible outlier?"
   ]
  },
  {
   "cell_type": "code",
   "execution_count": 148,
   "metadata": {},
   "outputs": [
    {
     "name": "stdout",
     "output_type": "stream",
     "text": [
      "soda     milk      stud_res             res                  hii\n",
      "[35.1]   [27.6]    0.4115762515875641   [[0.22824539]]    0.5107292028196339\n",
      "[35.7]   [26.7]    -0.8666791818413605   [[-0.50252642]]    0.46513158682097383\n",
      "[46.2]   [25.7]    2.0023311554832235   [[1.45896693]]    0.1553729789245668\n",
      "[47.4]   [23.9]    -0.003586368752857462   [[-0.00257668]]    0.17878214871285364\n",
      "[47.9]   [23.]    -1.0686695028033364   [[-0.76155319]]    0.19209641322689802\n",
      "[49.7]   [22.9]    -0.5179388849088189   [[-0.35386862]]    0.25736922101080756\n",
      "[49.3]   [23.3]    -0.0965179711503019   [[-0.06668741]]    0.24051844848426884\n"
     ]
    }
   ],
   "source": [
    "arr = np.empty((0,2))\n",
    "for i in range(0,n):\n",
    "    temp=soda[i][0]\n",
    "    arr = np.append(arr, np.array([[1,temp]]), axis=0)\n",
    "tmp=np.dot(arr.transpose(),arr)\n",
    "tmp=np.linalg.inv(tmp)\n",
    "hat_m=np.dot(np.dot(arr,tmp),arr.transpose())\n",
    "stud_res=np.empty((0,1))\n",
    "print('soda','    milk','     stud_res','            res','                 hii')\n",
    "for i in range(0,n):\n",
    "    predict=a+b*soda[i]\n",
    "    res = milk[i]-predict\n",
    "    stud_res= np.append(stud_res,(res)/((MSE*(1-hat_m[i][i]))**0.5))\n",
    "    print(soda[i],' ',milk[i],'  ',stud_res[i],' ',res,'  ',hat_m[i][i])\n",
    "    "
   ]
  },
  {
   "cell_type": "code",
   "execution_count": 149,
   "metadata": {},
   "outputs": [
    {
     "data": {
      "text/plain": [
       "<function matplotlib.pyplot.show(*args, **kw)>"
      ]
     },
     "execution_count": 149,
     "metadata": {},
     "output_type": "execute_result"
    },
    {
     "data": {
      "image/png": "[encoded data removed]",
      "text/plain": [
       "<Figure size 432x288 with 1 Axes>"
      ]
     },
     "metadata": {
      "needs_background": "light"
     },
     "output_type": "display_data"
    }
   ],
   "source": [
    "plt.scatter(soda,milk,color='blue',marker='o')\n",
    "plt.plot(soda,model_drink.predict(soda),color='red')\n",
    "plt.plot(soda, model_drink.predict(soda) + 2*(MSE**0.5), linestyle='dashed',color='green')\n",
    "plt.plot(soda, model_drink.predict(soda) - 2*(MSE**0.5), linestyle='dashed',color='green')\n",
    "plt.xlabel('Soda')\n",
    "plt.ylabel('Milk')\n",
    "plt.show"
   ]
  },
  {
   "cell_type": "markdown",
   "metadata": {},
   "source": [
    "c. Compute Pearson's correlation"
   ]
  },
  {
   "cell_type": "code",
   "execution_count": 150,
   "metadata": {},
   "outputs": [
    {
     "name": "stdout",
     "output_type": "stream",
     "text": [
      "44.471428571428575 24.72857142857143 [-9.61918367] [34.10489796] [3.16204082]\n",
      "[-0.92628814] (array([-0.92628814]), array([0.00272225]))\n"
     ]
    }
   ],
   "source": [
    "pearson=stats.pearsonr(soda, milk)\n",
    "p=cov_xy/((x_var*y_var)**0.5)\n",
    "print(x_mean,y_mean,cov_xy,x_var,y_var)\n",
    "print(p,pearson)"
   ]
  },
  {
   "cell_type": "markdown",
   "metadata": {},
   "source": [
    "d .Compute Kendall's tau"
   ]
  },
  {
   "cell_type": "code",
   "execution_count": 151,
   "metadata": {},
   "outputs": [
    {
     "name": "stdout",
     "output_type": "stream",
     "text": [
      "-0.9047619047619047 -0.9047619047619049\n"
     ]
    }
   ],
   "source": [
    "tau,p_value=stats.kendalltau(soda,milk)\n",
    "t=1/21-20/21\n",
    "print(t,tau)"
   ]
  },
  {
   "cell_type": "markdown",
   "metadata": {},
   "source": [
    "e. Fit a least-squares line"
   ]
  },
  {
   "cell_type": "code",
   "execution_count": 152,
   "metadata": {
    "scrolled": true
   },
   "outputs": [
    {
     "name": "stdout",
     "output_type": "stream",
     "text": [
      "[1.77821282] [5.83993989]\n",
      "b係數： [[-0.28204699]] [-0.28204699]\n",
      "a截距： [37.27160382] [37.27160382]\n",
      "Y= 37.27160381535958 + -0.28204698588987176 X\n"
     ]
    }
   ],
   "source": [
    "y_s=y_var**0.5\n",
    "x_s=x_var**0.5\n",
    "b=p*y_s/x_s\n",
    "a=y_mean-b*x_mean\n",
    "print(y_s,x_s)\n",
    "print(\"b係數：\",model_drink.coef_,b)  #係數 b\n",
    "print(\"a截距：\",model_drink.intercept_,a)  #截距 a\n",
    "print('Y=',model_drink.intercept_[0],'+',model_drink.coef_[0][0],'X')"
   ]
  },
  {
   "cell_type": "code",
   "execution_count": 161,
   "metadata": {
    "scrolled": true
   },
   "outputs": [
    {
     "data": {
      "text/plain": [
       "<function matplotlib.pyplot.show(*args, **kw)>"
      ]
     },
     "execution_count": 161,
     "metadata": {},
     "output_type": "execute_result"
    },
    {
     "data": {
      "image/png": "[encoded data removed]",
      "text/plain": [
       "<Figure size 432x288 with 1 Axes>"
      ]
     },
     "metadata": {
      "needs_background": "light"
     },
     "output_type": "display_data"
    }
   ],
   "source": [
    "plt.scatter(soda,milk,color='blue',marker='o')\n",
    "plt.plot(soda,model_drink.predict(soda),color='red')\n",
    "plt.xlabel('Soda')\n",
    "plt.ylabel('Milk')\n",
    "plt.show"
   ]
  }
 ],
 "metadata": {
  "kernelspec": {
   "display_name": "Python 3",
   "language": "python",
   "name": "python3"
  },
  "language_info": {
   "codemirror_mode": {
    "name": "ipython",
    "version": 3
   },
   "file_extension": ".py",
   "mimetype": "text/x-python",
   "name": "python",
   "nbconvert_exporter": "python",
   "pygments_lexer": "ipython3",
   "version": "3.6.8"
  }
 },
 "nbformat": 4,
 "nbformat_minor": 2
}
